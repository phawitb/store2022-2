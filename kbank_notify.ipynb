{
 "cells": [
  {
   "cell_type": "code",
   "execution_count": 1,
   "id": "c42b343c",
   "metadata": {},
   "outputs": [],
   "source": [
    "from selenium.webdriver.common.by import By\n",
    "from selenium.webdriver.common.keys import Keys\n",
    "from selenium import webdriver\n",
    "import time\n",
    "import pandas as pd\n",
    "\n",
    "def start():\n",
    "    global driver\n",
    "    driver.get(\"https://online.kasikornbankgroup.com/kbiz/\")\n",
    "    username = \"phawit.boo\"\n",
    "    password = \"myBtc-2021\"\n",
    "\n",
    "    driver.implicitly_wait(15)\n",
    "    inputElement = driver.find_element(By.ID, \"userName\")\n",
    "    inputElement.send_keys(username)\n",
    "    inputElement = driver.find_element(By.ID, \"password\")\n",
    "    inputElement.send_keys(password)\n",
    "    inputElement.send_keys(Keys.ENTER)\n",
    "\n",
    "    driver.find_element(By.LINK_TEXT, \"ดูรายละเอียดบัญชีเพิ่มเติม >\").click()\n",
    "\n",
    "def read_table():\n",
    "    global driver\n",
    "    driver.find_element(By.XPATH, \"/html/body/app-root/menu-main/div[1]/main/div/div[2]/app-account-business/div/app-account-summary-main/app-recent-transaction/div/div[1]/div/form/fieldset/div/div/div/a[1]\").click()\n",
    "    time.sleep(2)\n",
    "    #table\n",
    "    new_table = driver.find_element(By.XPATH, \"/html/body/app-root/menu-main/div[1]/main/div/div[2]/app-account-business/div/app-account-summary-main/app-recent-transaction/div/div[3]\").text\n",
    "    return new_table\n",
    "\n",
    "def last_transaction(new_table):\n",
    "    table = new_table.split('\\n')[:-3]\n",
    "    Table = []\n",
    "    for i in range(len(table)//6):\n",
    "        Table.append(table[i*6:i*6+6])\n",
    "    \n",
    "    df = pd.DataFrame(Table[1:],columns =['date','time','status','amount']+Table[0][4:])\n",
    "    return df.iloc[0]['date'],df.iloc[0]['time'],df.iloc[0]['status'],df.iloc[0]['amount']\n",
    "    "
   ]
  },
  {
   "cell_type": "code",
   "execution_count": 2,
   "id": "1771ba4d",
   "metadata": {
    "scrolled": true
   },
   "outputs": [
    {
     "ename": "AttributeError",
     "evalue": "'NoneType' object has no attribute 'click'",
     "output_type": "error",
     "traceback": [
      "\u001b[0;31m---------------------------------------------------------------------------\u001b[0m",
      "\u001b[0;31mAttributeError\u001b[0m                            Traceback (most recent call last)",
      "\u001b[0;32m/tmp/ipykernel_411625/3463637521.py\u001b[0m in \u001b[0;36m<module>\u001b[0;34m\u001b[0m\n\u001b[1;32m      1\u001b[0m \u001b[0mdriver\u001b[0m \u001b[0;34m=\u001b[0m \u001b[0mwebdriver\u001b[0m\u001b[0;34m.\u001b[0m\u001b[0mChrome\u001b[0m\u001b[0;34m(\u001b[0m\u001b[0;34m)\u001b[0m\u001b[0;34m\u001b[0m\u001b[0;34m\u001b[0m\u001b[0m\n\u001b[1;32m      2\u001b[0m \u001b[0;34m\u001b[0m\u001b[0m\n\u001b[0;32m----> 3\u001b[0;31m \u001b[0mstart\u001b[0m\u001b[0;34m(\u001b[0m\u001b[0;34m)\u001b[0m\u001b[0;34m\u001b[0m\u001b[0;34m\u001b[0m\u001b[0m\n\u001b[0m\u001b[1;32m      4\u001b[0m \u001b[0mtable\u001b[0m \u001b[0;34m=\u001b[0m \u001b[0;34m''\u001b[0m\u001b[0;34m\u001b[0m\u001b[0;34m\u001b[0m\u001b[0m\n\u001b[1;32m      5\u001b[0m \u001b[0mnoti\u001b[0m \u001b[0;34m=\u001b[0m \u001b[0;34m''\u001b[0m\u001b[0;34m\u001b[0m\u001b[0;34m\u001b[0m\u001b[0m\n",
      "\u001b[0;32m/tmp/ipykernel_411625/3610237638.py\u001b[0m in \u001b[0;36mstart\u001b[0;34m()\u001b[0m\n\u001b[1;32m     18\u001b[0m     \u001b[0minputElement\u001b[0m\u001b[0;34m.\u001b[0m\u001b[0msend_keys\u001b[0m\u001b[0;34m(\u001b[0m\u001b[0mKeys\u001b[0m\u001b[0;34m.\u001b[0m\u001b[0mENTER\u001b[0m\u001b[0;34m)\u001b[0m\u001b[0;34m\u001b[0m\u001b[0;34m\u001b[0m\u001b[0m\n\u001b[1;32m     19\u001b[0m \u001b[0;34m\u001b[0m\u001b[0m\n\u001b[0;32m---> 20\u001b[0;31m     \u001b[0mdriver\u001b[0m\u001b[0;34m.\u001b[0m\u001b[0mfind_element\u001b[0m\u001b[0;34m(\u001b[0m\u001b[0mBy\u001b[0m\u001b[0;34m.\u001b[0m\u001b[0mLINK_TEXT\u001b[0m\u001b[0;34m,\u001b[0m \u001b[0;34m\"ดูรายละเอียดบัญชีเพิ่มเติม >\"\u001b[0m\u001b[0;34m)\u001b[0m\u001b[0;34m.\u001b[0m\u001b[0mclick\u001b[0m\u001b[0;34m(\u001b[0m\u001b[0;34m)\u001b[0m\u001b[0;34m\u001b[0m\u001b[0;34m\u001b[0m\u001b[0m\n\u001b[0m\u001b[1;32m     21\u001b[0m \u001b[0;34m\u001b[0m\u001b[0m\n\u001b[1;32m     22\u001b[0m \u001b[0;32mdef\u001b[0m \u001b[0mread_table\u001b[0m\u001b[0;34m(\u001b[0m\u001b[0;34m)\u001b[0m\u001b[0;34m:\u001b[0m\u001b[0;34m\u001b[0m\u001b[0;34m\u001b[0m\u001b[0m\n",
      "\u001b[0;31mAttributeError\u001b[0m: 'NoneType' object has no attribute 'click'"
     ]
    }
   ],
   "source": [
    "driver = webdriver.Chrome()\n",
    "\n",
    "start()\n",
    "table = ''\n",
    "noti = ''\n",
    "while True:\n",
    "    try:\n",
    "        new_table = read_table()\n",
    "        if table != new_table:\n",
    "            if noti != last_transaction(new_table):\n",
    "                noti = last_transaction(new_table)\n",
    "                print('-'*20)\n",
    "                print(noti)\n",
    "                table = new_table\n",
    "                if float(noti[3]) == 3:\n",
    "                    print('recieved money')\n",
    "                    break \n",
    "                    \n",
    "    except:\n",
    "        print('|restart|'*20)\n",
    "        driver.close()\n",
    "        driver = webdriver.Chrome()\n",
    "#         driver.quit()\n",
    "        start()\n",
    "        table = ''\n",
    "        \n"
   ]
  },
  {
   "cell_type": "code",
   "execution_count": 2,
   "id": "aa0103df",
   "metadata": {},
   "outputs": [],
   "source": [
    "driver = webdriver.Chrome()\n",
    "start()\n",
    "new_table = read_table()\n",
    "noti = last_transaction(new_table)\n",
    "if len(noti) == 4:\n",
    "    QR_READY = True"
   ]
  },
  {
   "cell_type": "code",
   "execution_count": 5,
   "id": "63f8f211",
   "metadata": {},
   "outputs": [
    {
     "data": {
      "text/plain": [
       "(' 2 ต.ค. 65', '10:51:36', 'รับโอนเงิน', '1.80')"
      ]
     },
     "execution_count": 5,
     "metadata": {},
     "output_type": "execute_result"
    }
   ],
   "source": [
    "while QR_READY:\n",
    "    last_transaction(new_table)"
   ]
  },
  {
   "cell_type": "code",
   "execution_count": 9,
   "id": "e687d3cc",
   "metadata": {},
   "outputs": [
    {
     "data": {
      "text/plain": [
       "4"
      ]
     },
     "execution_count": 9,
     "metadata": {},
     "output_type": "execute_result"
    }
   ],
   "source": [
    "while True and QR_READY:\n",
    "    try:\n",
    "        new_table = read_table()\n",
    "        if table != new_table:\n",
    "            if noti != last_transaction(new_table):\n",
    "                noti = last_transaction(new_table)\n",
    "                print('-'*20)\n",
    "                print(noti)\n",
    "                table = new_table\n",
    "                if float(noti[3]) == 3:\n",
    "                    print('recieved money')\n",
    "                    break \n",
    "                    \n",
    "    except:\n",
    "        print('|restart|'*20)\n",
    "        driver.close()\n",
    "        driver = webdriver.Chrome()\n",
    "#         driver.quit()\n",
    "        start()\n",
    "        table = ''"
   ]
  },
  {
   "cell_type": "code",
   "execution_count": null,
   "id": "f1416123",
   "metadata": {},
   "outputs": [],
   "source": []
  },
  {
   "cell_type": "code",
   "execution_count": null,
   "id": "6e129db1",
   "metadata": {},
   "outputs": [],
   "source": []
  },
  {
   "cell_type": "code",
   "execution_count": null,
   "id": "ff8050fb",
   "metadata": {},
   "outputs": [],
   "source": []
  },
  {
   "cell_type": "code",
   "execution_count": 23,
   "id": "a5378605",
   "metadata": {},
   "outputs": [
    {
     "data": {
      "text/plain": [
       "5"
      ]
     },
     "execution_count": 23,
     "metadata": {},
     "output_type": "execute_result"
    }
   ],
   "source": [
    "len(table)//6"
   ]
  },
  {
   "cell_type": "code",
   "execution_count": 47,
   "id": "e0eff34f",
   "metadata": {},
   "outputs": [
    {
     "data": {
      "text/plain": [
       "(' 2 ต.ค. 65', '07:30:21', 'รับโอนเงิน', '0.70')"
      ]
     },
     "execution_count": 47,
     "metadata": {},
     "output_type": "execute_result"
    }
   ],
   "source": [
    "import pandas as pd\n",
    "\n",
    "def last_transaction(new_table):\n",
    "    table = new_table.split('\\n')[:-3]\n",
    "    Table = []\n",
    "    for i in range(len(table)//6):\n",
    "        Table.append(table[i*6:i*6+6])\n",
    "    \n",
    "    df = pd.DataFrame(Table[1:],columns =['date','time','status','amount']+Table[0][4:])\n",
    "    return df.iloc[0]['date'],df.iloc[0]['time'],df.iloc[0]['status'],df.iloc[0]['amount']\n",
    "\n",
    "last_transaction(new_table)\n",
    "    "
   ]
  },
  {
   "cell_type": "code",
   "execution_count": 28,
   "id": "a635f4ce",
   "metadata": {},
   "outputs": [
    {
     "data": {
      "text/plain": [
       "[['วันที่ทำรายการ',\n",
       "  'รายการ',\n",
       "  'ถอน (บาท)',\n",
       "  'ฝาก (บาท)',\n",
       "  'รายละเอียด',\n",
       "  'ช่องทาง'],\n",
       " [' 2 ต.ค. 65',\n",
       "  '07:30:21',\n",
       "  'รับโอนเงิน',\n",
       "  '0.70',\n",
       "  'บัญชีต่างธนาคาร/อื่นๆ',\n",
       "  'Internet/Mobile ต่างธนาคาร'],\n",
       " ['2 ต.ค. 65',\n",
       "  '03:43:48',\n",
       "  'รับโอนเงิน',\n",
       "  '0.10',\n",
       "  'บัญชีต่างธนาคาร/อื่นๆ',\n",
       "  'Internet/Mobile ต่างธนาคาร'],\n",
       " ['2 ต.ค. 65',\n",
       "  '03:10:51',\n",
       "  'รับโอนเงิน',\n",
       "  '1.45',\n",
       "  'บัญชีต่างธนาคาร/อื่นๆ',\n",
       "  'Internet/Mobile ต่างธนาคาร'],\n",
       " ['2 ต.ค. 65',\n",
       "  '02:52:40',\n",
       "  'รับโอนเงิน',\n",
       "  '1.23',\n",
       "  'บัญชีต่างธนาคาร/อื่นๆ',\n",
       "  'Internet/Mobile ต่างธนาคาร']]"
      ]
     },
     "execution_count": 28,
     "metadata": {},
     "output_type": "execute_result"
    }
   ],
   "source": [
    "\n",
    "# table = [x.strip() for x in new_table.split('รับโอนเงิน')]\n",
    "# table\n",
    "table = new_table.split('\\n')[:-3]\n",
    "Table = []\n",
    "for i in range(len(table)//6):\n",
    "    Table.append(table[i*6:i*6+6])\n",
    "Table"
   ]
  },
  {
   "cell_type": "code",
   "execution_count": 39,
   "id": "b743bdeb",
   "metadata": {},
   "outputs": [
    {
     "data": {
      "text/html": [
       "<div>\n",
       "<style scoped>\n",
       "    .dataframe tbody tr th:only-of-type {\n",
       "        vertical-align: middle;\n",
       "    }\n",
       "\n",
       "    .dataframe tbody tr th {\n",
       "        vertical-align: top;\n",
       "    }\n",
       "\n",
       "    .dataframe thead th {\n",
       "        text-align: right;\n",
       "    }\n",
       "</style>\n",
       "<table border=\"1\" class=\"dataframe\">\n",
       "  <thead>\n",
       "    <tr style=\"text-align: right;\">\n",
       "      <th></th>\n",
       "      <th>date</th>\n",
       "      <th>time</th>\n",
       "      <th>status</th>\n",
       "      <th>amount</th>\n",
       "      <th>รายละเอียด</th>\n",
       "      <th>ช่องทาง</th>\n",
       "    </tr>\n",
       "  </thead>\n",
       "  <tbody>\n",
       "    <tr>\n",
       "      <th>0</th>\n",
       "      <td>2 ต.ค. 65</td>\n",
       "      <td>07:30:21</td>\n",
       "      <td>รับโอนเงิน</td>\n",
       "      <td>0.70</td>\n",
       "      <td>บัญชีต่างธนาคาร/อื่นๆ</td>\n",
       "      <td>Internet/Mobile ต่างธนาคาร</td>\n",
       "    </tr>\n",
       "    <tr>\n",
       "      <th>1</th>\n",
       "      <td>2 ต.ค. 65</td>\n",
       "      <td>03:43:48</td>\n",
       "      <td>รับโอนเงิน</td>\n",
       "      <td>0.10</td>\n",
       "      <td>บัญชีต่างธนาคาร/อื่นๆ</td>\n",
       "      <td>Internet/Mobile ต่างธนาคาร</td>\n",
       "    </tr>\n",
       "    <tr>\n",
       "      <th>2</th>\n",
       "      <td>2 ต.ค. 65</td>\n",
       "      <td>03:10:51</td>\n",
       "      <td>รับโอนเงิน</td>\n",
       "      <td>1.45</td>\n",
       "      <td>บัญชีต่างธนาคาร/อื่นๆ</td>\n",
       "      <td>Internet/Mobile ต่างธนาคาร</td>\n",
       "    </tr>\n",
       "    <tr>\n",
       "      <th>3</th>\n",
       "      <td>2 ต.ค. 65</td>\n",
       "      <td>02:52:40</td>\n",
       "      <td>รับโอนเงิน</td>\n",
       "      <td>1.23</td>\n",
       "      <td>บัญชีต่างธนาคาร/อื่นๆ</td>\n",
       "      <td>Internet/Mobile ต่างธนาคาร</td>\n",
       "    </tr>\n",
       "  </tbody>\n",
       "</table>\n",
       "</div>"
      ],
      "text/plain": [
       "         date      time      status amount             รายละเอียด  \\\n",
       "0   2 ต.ค. 65  07:30:21  รับโอนเงิน   0.70  บัญชีต่างธนาคาร/อื่นๆ   \n",
       "1   2 ต.ค. 65  03:43:48  รับโอนเงิน   0.10  บัญชีต่างธนาคาร/อื่นๆ   \n",
       "2   2 ต.ค. 65  03:10:51  รับโอนเงิน   1.45  บัญชีต่างธนาคาร/อื่นๆ   \n",
       "3   2 ต.ค. 65  02:52:40  รับโอนเงิน   1.23  บัญชีต่างธนาคาร/อื่นๆ   \n",
       "\n",
       "                      ช่องทาง  \n",
       "0  Internet/Mobile ต่างธนาคาร  \n",
       "1  Internet/Mobile ต่างธนาคาร  \n",
       "2  Internet/Mobile ต่างธนาคาร  \n",
       "3  Internet/Mobile ต่างธนาคาร  "
      ]
     },
     "execution_count": 39,
     "metadata": {},
     "output_type": "execute_result"
    }
   ],
   "source": [
    "import pandas as pd\n",
    "df = pd.DataFrame(Table[1:],columns =['date','time','status','amount']+Table[0][4:])\n",
    "df"
   ]
  },
  {
   "cell_type": "code",
   "execution_count": 46,
   "id": "0b38680a",
   "metadata": {},
   "outputs": [
    {
     "name": "stdout",
     "output_type": "stream",
     "text": [
      "(' 2 ต.ค. 65', '07:30:21', 'รับโอนเงิน', '0.70')\n"
     ]
    }
   ],
   "source": [
    "recieve = df.iloc[0]['date'],df.iloc[0]['time'],df.iloc[0]['status'],df.iloc[0]['amount']\n",
    "print(recieve)"
   ]
  },
  {
   "cell_type": "code",
   "execution_count": null,
   "id": "5b6374a0",
   "metadata": {},
   "outputs": [],
   "source": []
  },
  {
   "cell_type": "markdown",
   "id": "5b0be71e",
   "metadata": {},
   "source": [
    "# Test"
   ]
  },
  {
   "cell_type": "code",
   "execution_count": null,
   "id": "7bc7b427",
   "metadata": {},
   "outputs": [],
   "source": [
    "from selenium.webdriver.common.by import By\n",
    "from selenium.webdriver.common.keys import Keys\n",
    "from selenium import webdriver\n",
    "import time\n",
    "driver = webdriver.Chrome()\n",
    "driver.get(\"https://online.kasikornbankgroup.com/kbiz/\")\n",
    "username = \"phawit.boo\"\n",
    "password = \"myBtc-2021\"\n",
    "\n",
    "driver.implicitly_wait(15)\n",
    "inputElement = driver.find_element(By.ID, \"userName\")\n",
    "inputElement.send_keys(username)\n",
    "inputElement = driver.find_element(By.ID, \"password\")\n",
    "inputElement.send_keys(password)\n",
    "inputElement.send_keys(Keys.ENTER)\n",
    "\n",
    "driver.find_element(By.LINK_TEXT, \"ดูรายละเอียดบัญชีเพิ่มเติม >\").click()\n",
    "\n",
    "# #ค้นหา btn\n",
    "# driver.find_element(By.XPATH, \"/html/body/app-root/menu-main/div[1]/main/div/div[2]/app-account-business/div/app-account-summary-main/app-recent-transaction/div/div[1]/div/form/fieldset/div/div/div/a[1]\").click()\n",
    "# time.sleep(3)\n",
    "# #table\n",
    "# table = driver.find_element(By.XPATH, \"/html/body/app-root/menu-main/div[1]/main/div/div[2]/app-account-business/div/app-account-summary-main/app-recent-transaction/div/div[3]\").text\n",
    "# table\n"
   ]
  },
  {
   "cell_type": "code",
   "execution_count": null,
   "id": "c8e3fa7c",
   "metadata": {},
   "outputs": [],
   "source": [
    "table = ''\n",
    "while True:\n",
    "    #ค้นหา btn\n",
    "    driver.find_element(By.XPATH, \"/html/body/app-root/menu-main/div[1]/main/div/div[2]/app-account-business/div/app-account-summary-main/app-recent-transaction/div/div[1]/div/form/fieldset/div/div/div/a[1]\").click()\n",
    "    time.sleep(2)\n",
    "    #table\n",
    "    new_table = driver.find_element(By.XPATH, \"/html/body/app-root/menu-main/div[1]/main/div/div[2]/app-account-business/div/app-account-summary-main/app-recent-transaction/div/div[3]\").text\n",
    "    if table != new_table:\n",
    "        print('-'*20,'\\n',new_table)\n",
    "        table = new_table"
   ]
  },
  {
   "cell_type": "code",
   "execution_count": null,
   "id": "67f21013",
   "metadata": {},
   "outputs": [],
   "source": []
  },
  {
   "cell_type": "code",
   "execution_count": null,
   "id": "e328781c",
   "metadata": {},
   "outputs": [],
   "source": []
  },
  {
   "cell_type": "code",
   "execution_count": null,
   "id": "c908b1ec",
   "metadata": {},
   "outputs": [],
   "source": [
    "#ค้นหา btn\n",
    "driver.find_element(By.XPATH, \"/html/body/app-root/menu-main/div[1]/main/div/div[2]/app-account-business/div/app-account-summary-main/app-recent-transaction/div/div[1]/div/form/fieldset/div/div/div/a[1]\").click()\n",
    "#table\n",
    "table = driver.find_element(By.XPATH, \"/html/body/app-root/menu-main/div[1]/main/div/div[2]/app-account-business/div/app-account-summary-main/app-recent-transaction/div/div[3]\").text\n",
    "table"
   ]
  },
  {
   "cell_type": "code",
   "execution_count": null,
   "id": "4c06d03f",
   "metadata": {},
   "outputs": [],
   "source": [
    "#table\n",
    "table = driver.find_element(By.XPATH, \"/html/body/app-root/menu-main/div[1]/main/div/div[2]/app-account-business/div/app-account-summary-main/app-recent-transaction/div/div[3]\").text\n",
    "table"
   ]
  },
  {
   "cell_type": "code",
   "execution_count": null,
   "id": "65ae9ed7",
   "metadata": {},
   "outputs": [],
   "source": []
  },
  {
   "cell_type": "code",
   "execution_count": null,
   "id": "88060d7b",
   "metadata": {},
   "outputs": [],
   "source": []
  },
  {
   "cell_type": "code",
   "execution_count": null,
   "id": "1c190a74",
   "metadata": {},
   "outputs": [],
   "source": [
    "from selenium.webdriver.common.by import By\n",
    "from selenium.webdriver.common.keys import Keys"
   ]
  },
  {
   "cell_type": "code",
   "execution_count": null,
   "id": "6ab7ae24",
   "metadata": {},
   "outputs": [],
   "source": [
    "from selenium import webdriver\n",
    "driver = webdriver.Chrome()\n",
    "driver.get(\"https://online.kasikornbankgroup.com/kbiz/\")"
   ]
  },
  {
   "cell_type": "code",
   "execution_count": null,
   "id": "4ae5842e",
   "metadata": {},
   "outputs": [],
   "source": [
    "username = \"phawit.boo\"\n",
    "password = \"myBtc-2021\""
   ]
  },
  {
   "cell_type": "code",
   "execution_count": null,
   "id": "71519c67",
   "metadata": {},
   "outputs": [],
   "source": [
    "inputElement = driver.find_element(By.ID, \"userName\")\n",
    "inputElement.send_keys(username)"
   ]
  },
  {
   "cell_type": "code",
   "execution_count": null,
   "id": "c76cd57a",
   "metadata": {},
   "outputs": [],
   "source": [
    "inputElement = driver.find_element(By.ID, \"password\")\n",
    "inputElement.send_keys(password)"
   ]
  },
  {
   "cell_type": "code",
   "execution_count": null,
   "id": "beecef2d",
   "metadata": {},
   "outputs": [],
   "source": [
    "inputElement.send_keys(Keys.ENTER)"
   ]
  },
  {
   "cell_type": "code",
   "execution_count": null,
   "id": "720b7bfa",
   "metadata": {},
   "outputs": [],
   "source": [
    "driver.find_element(By.LINK_TEXT, \"ดูรายละเอียดบัญชีเพิ่มเติม >\").click()"
   ]
  },
  {
   "cell_type": "code",
   "execution_count": null,
   "id": "a2b33239",
   "metadata": {},
   "outputs": [],
   "source": [
    "driver.find_element(By.XPATH, \"/html/body/app-root/menu-main/div[1]/main/div/div[2]/app-account-business/div/app-account-summary-main/app-recent-transaction/div/div[1]/div/form/fieldset/div/div/div/a[1]\").click()"
   ]
  },
  {
   "cell_type": "code",
   "execution_count": null,
   "id": "88e7d9df",
   "metadata": {},
   "outputs": [],
   "source": [
    "status = driver.find_element(By.XPATH, \"/html/body/app-root/menu-main/div[1]/main/div/div[2]/app-account-business/div/app-account-summary-main/app-recent-transaction/div/div[3]/div[2]/div[1]\").text\n",
    "status"
   ]
  },
  {
   "cell_type": "code",
   "execution_count": null,
   "id": "1a6e694a",
   "metadata": {},
   "outputs": [],
   "source": []
  },
  {
   "cell_type": "code",
   "execution_count": null,
   "id": "cdae06b3",
   "metadata": {},
   "outputs": [],
   "source": []
  },
  {
   "cell_type": "code",
   "execution_count": null,
   "id": "d5aeee88",
   "metadata": {},
   "outputs": [],
   "source": []
  },
  {
   "cell_type": "code",
   "execution_count": null,
   "id": "2826d87f",
   "metadata": {},
   "outputs": [],
   "source": []
  },
  {
   "cell_type": "code",
   "execution_count": null,
   "id": "9c554208",
   "metadata": {},
   "outputs": [],
   "source": []
  },
  {
   "cell_type": "code",
   "execution_count": null,
   "id": "77aa2adb",
   "metadata": {},
   "outputs": [],
   "source": []
  },
  {
   "cell_type": "code",
   "execution_count": null,
   "id": "6a12592d",
   "metadata": {},
   "outputs": [],
   "source": []
  }
 ],
 "metadata": {
  "kernelspec": {
   "display_name": "selinium",
   "language": "python",
   "name": "selinium"
  },
  "language_info": {
   "codemirror_mode": {
    "name": "ipython",
    "version": 3
   },
   "file_extension": ".py",
   "mimetype": "text/x-python",
   "name": "python",
   "nbconvert_exporter": "python",
   "pygments_lexer": "ipython3",
   "version": "3.7.13"
  }
 },
 "nbformat": 4,
 "nbformat_minor": 5
}
